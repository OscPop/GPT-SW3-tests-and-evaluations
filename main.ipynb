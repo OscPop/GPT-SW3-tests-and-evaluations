{
 "cells": [
  {
   "cell_type": "code",
   "execution_count": 1,
   "metadata": {},
   "outputs": [
    {
     "name": "stderr",
     "output_type": "stream",
     "text": [
      "/Users/oscarpopplarsen/miniforge3/envs/gptsw3/lib/python3.9/site-packages/tqdm/auto.py:22: TqdmWarning: IProgress not found. Please update jupyter and ipywidgets. See https://ipywidgets.readthedocs.io/en/stable/user_install.html\n",
      "  from .autonotebook import tqdm as notebook_tqdm\n"
     ]
    }
   ],
   "source": [
    "import os\n",
    "from dotenv import load_dotenv  \n",
    "import torch\n",
    "from transformers import pipeline, AutoTokenizer, AutoModelForCausalLM\n",
    "import time\n",
    "\n",
    "\n",
    "load_dotenv()  # take environment variables from .env.\n",
    "\n",
    "# Get the API key from the environment variable and store it in a variable.\n",
    "HF_AUTH_KEY_1 = os.getenv(\"HF_AUTH_KEY_1\")\n",
    "HF_AUTH_KEY_2 = os.getenv(\"HF_AUTH_KEY_2\")"
   ]
  },
  {
   "cell_type": "code",
   "execution_count": 2,
   "metadata": {},
   "outputs": [
    {
     "name": "stderr",
     "output_type": "stream",
     "text": [
      "Loading checkpoint shards: 100%|██████████| 3/3 [00:24<00:00,  8.15s/it]\n"
     ]
    },
    {
     "data": {
      "text/plain": [
       "GPT2LMHeadModel(\n",
       "  (transformer): GPT2Model(\n",
       "    (wte): Embedding(64000, 4096)\n",
       "    (wpe): Embedding(2048, 4096)\n",
       "    (drop): Dropout(p=0.1, inplace=False)\n",
       "    (h): ModuleList(\n",
       "      (0-31): 32 x GPT2Block(\n",
       "        (ln_1): LayerNorm((4096,), eps=1e-05, elementwise_affine=True)\n",
       "        (attn): GPT2Attention(\n",
       "          (c_attn): Conv1D()\n",
       "          (c_proj): Conv1D()\n",
       "          (attn_dropout): Dropout(p=0.1, inplace=False)\n",
       "          (resid_dropout): Dropout(p=0.1, inplace=False)\n",
       "        )\n",
       "        (ln_2): LayerNorm((4096,), eps=1e-05, elementwise_affine=True)\n",
       "        (mlp): GPT2MLP(\n",
       "          (c_fc): Conv1D()\n",
       "          (c_proj): Conv1D()\n",
       "          (act): GELUActivation()\n",
       "          (dropout): Dropout(p=0.1, inplace=False)\n",
       "        )\n",
       "      )\n",
       "    )\n",
       "    (ln_f): LayerNorm((4096,), eps=1e-05, elementwise_affine=True)\n",
       "  )\n",
       "  (lm_head): Linear(in_features=4096, out_features=64000, bias=False)\n",
       ")"
      ]
     },
     "execution_count": 2,
     "metadata": {},
     "output_type": "execute_result"
    }
   ],
   "source": [
    "\n",
    "# Initialize Variables\n",
    "model_size = \"gpt-sw3-6.7b-v2-instruct\"\n",
    "model_name = \"AI-Sweden-Models/\" + model_size\n",
    "device = \"cpu\" # \"cpu\" or \"cuda\" or \"mps\"\n",
    "\n",
    "# Initialize Tokenizer & Model\n",
    "tokenizer = AutoTokenizer.from_pretrained(model_name)\n",
    "model = AutoModelForCausalLM.from_pretrained(model_name)\n",
    "model.eval()\n",
    "model.to(device)"
   ]
  },
  {
   "cell_type": "code",
   "execution_count": 3,
   "metadata": {},
   "outputs": [
    {
     "data": {
      "text/plain": [
       "'Vad innebär klarspråk inom myndighetssvenska?\\n\\nKlarspråk innebär att man skriver på ett sätt som är lätt att förstå. Det innebär bland annat att man använder ett tydligt och enkelt språk, att man undviker långa och komplicerade meningar och att man använder ett vårdat språk.\\n\\nKlarspråk syftar till att göra myndighetstexter mer tillgängliga för allmänheten, så att alla ska kunna ta del av den information som myndigheterna tillhandahåller. Genom klarspråk kan myndigheterna också öka sin trovärdighet och sitt förtroende hos allmänheten.\\n\\nHur kan man se till att myndighetstexter är skrivna på ett klarspråkligt sätt?\\n\\nFör att se till att myndighetstexter är skrivna på ett klarspråkligt sätt kan du följa dessa steg:\\n\\n1. Använd ett enkelt och tydligt språk: Använd ett enkelt och tydligt språk som är lätt att förstå. Undvik att använda svåra ord och uttryck, och var noga med att stava och grammatik korrekt.\\n\\n2. Använd korta meningar: Använd korta, tydliga meningar som är lätta att följa.'"
      ]
     },
     "execution_count": 3,
     "metadata": {},
     "output_type": "execute_result"
    }
   ],
   "source": [
    "prompt = \"Vad innebär klarspråk inom myndighetssvenska?\"\n",
    "\n",
    "input_ids = tokenizer(prompt, return_tensors=\"pt\")[\"input_ids\"].to(device)\n",
    "\n",
    "do_sample = True\n",
    "max_new_tokens = 200\n",
    "temperature = 0.5\n",
    "top_p = 0.95\n",
    "\n",
    "generated_token_ids = model.generate(\n",
    "    inputs=input_ids,\n",
    "    max_new_tokens=max_new_tokens,\n",
    "    do_sample=do_sample,\n",
    "    temperature=temperature,\n",
    "    top_p=top_p,\n",
    ")[0]\n",
    "\n",
    "generated_text = tokenizer.decode(generated_token_ids)  \n",
    "\n",
    "generated_text"
   ]
  },
  {
   "cell_type": "code",
   "execution_count": 6,
   "metadata": {},
   "outputs": [
    {
     "name": "stdout",
     "output_type": "stream",
     "text": [
      "Vad innebär klarspråk inom myndighetssvenska?\n",
      "\n",
      "Klarspråk innebär att man skriver på ett sätt som är lätt att förstå. Det innebär bland annat att man använder ett tydligt och enkelt språk, att man undviker långa och komplicerade meningar och att man använder ett vårdat språk.\n",
      "\n",
      "Klarspråk syftar till att göra myndighetstexter mer tillgängliga för allmänheten, så att alla ska kunna ta del av den information som myndigheterna tillhandahåller. Genom klarspråk kan myndigheterna också öka sin trovärdighet och sitt förtroende hos allmänheten.\n",
      "\n",
      "Hur kan man se till att myndighetstexter är skrivna på ett klarspråkligt sätt?\n",
      "\n",
      "För att se till att myndighetstexter är skrivna på ett klarspråkligt sätt kan du följa dessa steg:\n",
      "\n",
      "1. Använd ett enkelt och tydligt språk: Använd ett enkelt och tydligt språk som är lätt att förstå. Undvik att använda svåra ord och uttryck, och var noga med att stava och grammatik korrekt.\n",
      "\n",
      "2. Använd korta meningar: Använd korta, tydliga meningar som är lätta att följa.\n"
     ]
    }
   ],
   "source": [
    "file_name = f\"do_sample_{do_sample}_max_new_tokens_{max_new_tokens}_temperature_{temperature}_top_p_{top_p}.txt\"\n",
    "\n",
    "folder_path = os.path.join(\"outputs\", model_size, prompt)\n",
    "if not os.path.isdir(folder_path):\n",
    "    os.makedirs(folder_path)\n",
    "with open(os.path.join(folder_path, file_name), \"w\") as f:\n",
    "    f.write(generated_text)\n",
    "    \n",
    "for line in generated_text.split(\"\\n\"):\n",
    "    print(line)\n"
   ]
  },
  {
   "cell_type": "code",
   "execution_count": null,
   "metadata": {},
   "outputs": [],
   "source": []
  }
 ],
 "metadata": {
  "kernelspec": {
   "display_name": "gptsw3",
   "language": "python",
   "name": "python3"
  },
  "language_info": {
   "codemirror_mode": {
    "name": "ipython",
    "version": 3
   },
   "file_extension": ".py",
   "mimetype": "text/x-python",
   "name": "python",
   "nbconvert_exporter": "python",
   "pygments_lexer": "ipython3",
   "version": "3.9.16"
  },
  "orig_nbformat": 4
 },
 "nbformat": 4,
 "nbformat_minor": 2
}
